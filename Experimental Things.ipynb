{
 "cells": [
  {
   "cell_type": "code",
   "execution_count": null,
   "metadata": {},
   "outputs": [],
   "source": [
    "#step1 !pip install all the necesary libraries"
   ]
  },
  {
   "cell_type": "code",
   "execution_count": 65,
   "metadata": {},
   "outputs": [],
   "source": [
    "import numpy as np\n",
    "import pandas as pd"
   ]
  },
  {
   "cell_type": "code",
   "execution_count": 24,
   "metadata": {},
   "outputs": [],
   "source": [
    "from sklearn.metrics import classification_report\n",
    "from sklearn import metrics\n",
    "from sklearn.model_selection import train_test_split"
   ]
  },
  {
   "cell_type": "code",
   "execution_count": 22,
   "metadata": {},
   "outputs": [],
   "source": [
    "from sklearn.tree import DecisionTreeClassifier\n",
    "from sklearn.ensemble import RandomForestClassifier\n",
    "from sklearn.neighbors import KNeighborsClassifier\n",
    "from sklearn.linear_model import LogisticRegression, SGDClassifier, Perceptron\n",
    "from sklearn.naive_bayes import GaussianNB\n",
    "from xgboost import XGBClassifier\n",
    "from sklearn.svm import SVC, LinearSVC\n",
    "from sklearn.discriminant_analysis import LinearDiscriminantAnalysis"
   ]
  },
  {
   "cell_type": "code",
   "execution_count": 40,
   "metadata": {},
   "outputs": [],
   "source": [
    "from sklearn.metrics import r2_score,mean_squared_error\n",
    "from sklearn.linear_model import LinearRegression\n",
    "from sklearn.tree import DecisionTreeRegressor\n",
    "from sklearn.ensemble import RandomForestRegressor\n",
    "from sklearn.ensemble import BaggingRegressor,GradientBoostingRegressor,AdaBoostRegressor\n",
    "from sklearn.svm import SVR\n",
    "from sklearn.neighbors import KNeighborsRegressor"
   ]
  },
  {
   "cell_type": "code",
   "execution_count": null,
   "metadata": {},
   "outputs": [],
   "source": [
    "  "
   ]
  },
  {
   "cell_type": "code",
   "execution_count": null,
   "metadata": {},
   "outputs": [],
   "source": [
    "# load the data "
   ]
  },
  {
   "cell_type": "code",
   "execution_count": 84,
   "metadata": {},
   "outputs": [],
   "source": [
    "df = pd.read_csv(\"Demo Datasets/Fish-1.csv\")"
   ]
  },
  {
   "cell_type": "code",
   "execution_count": 85,
   "metadata": {},
   "outputs": [
    {
     "name": "stdout",
     "output_type": "stream",
     "text": [
      "Index(['Species', 'Weight', 'Length1', 'Length2', 'Length3', 'Height',\n",
      "       'Width'],\n",
      "      dtype='object')\n"
     ]
    }
   ],
   "source": [
    "print(df.columns)"
   ]
  },
  {
   "cell_type": "code",
   "execution_count": 44,
   "metadata": {},
   "outputs": [
    {
     "name": "stdout",
     "output_type": "stream",
     "text": [
      "<class 'pandas.core.frame.DataFrame'>\n",
      "RangeIndex: 5000 entries, 0 to 4999\n",
      "Data columns (total 7 columns):\n",
      "Avg. Area Income                5000 non-null float64\n",
      "Avg. Area House Age             5000 non-null float64\n",
      "Avg. Area Number of Rooms       5000 non-null float64\n",
      "Avg. Area Number of Bedrooms    5000 non-null float64\n",
      "Area Population                 5000 non-null float64\n",
      "Price                           5000 non-null float64\n",
      "Address                         5000 non-null object\n",
      "dtypes: float64(6), object(1)\n",
      "memory usage: 273.6+ KB\n"
     ]
    }
   ],
   "source": [
    "df.info()"
   ]
  },
  {
   "cell_type": "code",
   "execution_count": 45,
   "metadata": {},
   "outputs": [],
   "source": [
    "df.drop(\"Address\", axis =1, inplace = True)"
   ]
  },
  {
   "cell_type": "code",
   "execution_count": 5,
   "metadata": {},
   "outputs": [],
   "source": [
    "# select the label"
   ]
  },
  {
   "cell_type": "code",
   "execution_count": null,
   "metadata": {},
   "outputs": [],
   "source": []
  },
  {
   "cell_type": "code",
   "execution_count": 86,
   "metadata": {},
   "outputs": [],
   "source": [
    "label = \"Species\""
   ]
  },
  {
   "cell_type": "code",
   "execution_count": 87,
   "metadata": {},
   "outputs": [],
   "source": [
    "Features = df.loc[:, df.columns != label]\n",
    "labels =  df.loc[:, label]"
   ]
  },
  {
   "cell_type": "code",
   "execution_count": 88,
   "metadata": {},
   "outputs": [],
   "source": [
    "# split into train and test"
   ]
  },
  {
   "cell_type": "code",
   "execution_count": 89,
   "metadata": {},
   "outputs": [],
   "source": [
    "\n",
    "X_train, X_test, y_train, y_test = train_test_split(Features,\n",
    "                                                    labels,\n",
    "                                                    test_size=0.2,\n",
    "                                                   random_state = 5)"
   ]
  },
  {
   "cell_type": "code",
   "execution_count": 90,
   "metadata": {},
   "outputs": [],
   "source": [
    "# check wheather labels are categorical or numerical by code and get apporal to change if required"
   ]
  },
  {
   "cell_type": "code",
   "execution_count": 94,
   "metadata": {
    "scrolled": true
   },
   "outputs": [],
   "source": [
    "def regressor():\n",
    "    models = []\n",
    "    metrix = []\n",
    "    train_accuracy = []\n",
    "    test_accuracy = []\n",
    "    models.append(('LinearRegression', LinearRegression()))\n",
    "    models.append(('DecisionTreeRegressor', DecisionTreeRegressor()))\n",
    "    models.append(('RandomForestRegressor', RandomForestRegressor()))\n",
    "    models.append(('BaggingRegressor', BaggingRegressor()))\n",
    "    models.append(('GradientBoostingRegressor', GradientBoostingRegressor()))\n",
    "    models.append(('AdaBoostRegressor', AdaBoostRegressor()))\n",
    "    models.append(('SVR', SVR()))\n",
    "    models.append(('KNeighborsRegressor', KNeighborsRegressor()))\n",
    "    for name, model in models:\n",
    "            m = model\n",
    "            m.fit(X_train, y_train)\n",
    "            y_pred = m.predict(X_test)\n",
    "            r_square = r2_score(y_test,y_pred)\n",
    "            rmse = np.sqrt(mean_squared_error(y_test,y_pred))\n",
    "            #print(name,\" ( r_square , rmse) is: \", r_square, rmse)\n",
    "            metrix.append((name, r_square, rmse))\n",
    "    return metrix\n"
   ]
  },
  {
   "cell_type": "code",
   "execution_count": null,
   "metadata": {},
   "outputs": [],
   "source": []
  },
  {
   "cell_type": "code",
   "execution_count": 104,
   "metadata": {},
   "outputs": [],
   "source": [
    "def classifier():\n",
    "    models = []\n",
    "    metrix = []\n",
    "    train_accuracy = []\n",
    "    test_accuracy = []\n",
    "    models.append(('LogisticRegression', LogisticRegression(solver='liblinear', multi_class='ovr')))\n",
    "    models.append(('LinearDiscriminantAnalysis', LinearDiscriminantAnalysis()))\n",
    "    models.append(('KNeighborsClassifier', KNeighborsClassifier()))\n",
    "    models.append(('DecisionTreeClassifier', DecisionTreeClassifier()))\n",
    "    models.append(('GaussianNB', GaussianNB()))\n",
    "    models.append(('RandomForestClassifier', RandomForestClassifier(n_estimators=100)))\n",
    "    models.append(('SVM', SVC(gamma='auto')))\n",
    "    models.append(('Linear_SVM', LinearSVC()))\n",
    "    models.append(('XGB', XGBClassifier()))\n",
    "    models.append(('SGD', SGDClassifier()))\n",
    "    models.append(('Perceptron', Perceptron()))\n",
    "    for name, model in models:\n",
    "            m = model\n",
    "            m.fit(X_train, y_train)\n",
    "            y_pred = m.predict(X_test)\n",
    "            train_acc = round(m.score(X_train, y_train) * 100, 2)\n",
    "            test_acc = metrics.accuracy_score(y_test,y_pred) *100\n",
    "            c_report = classification_report(y_test, y_pred)\n",
    "            #print(name,\" (train accuracy , test_accuracy) is: \", train_acc, test_acc)\n",
    "            metrix.append([name, train_acc, test_acc, c_report])\n",
    "    return metrix"
   ]
  },
  {
   "cell_type": "code",
   "execution_count": 105,
   "metadata": {},
   "outputs": [
    {
     "data": {
      "text/plain": [
       "7"
      ]
     },
     "execution_count": 105,
     "metadata": {},
     "output_type": "execute_result"
    }
   ],
   "source": [
    "len(labels.unique())"
   ]
  },
  {
   "cell_type": "code",
   "execution_count": 108,
   "metadata": {},
   "outputs": [
    {
     "name": "stderr",
     "output_type": "stream",
     "text": [
      "C:\\Users\\iad7kor\\AppData\\Local\\Continuum\\anaconda3\\lib\\site-packages\\sklearn\\metrics\\classification.py:1437: UndefinedMetricWarning: Precision and F-score are ill-defined and being set to 0.0 in labels with no predicted samples.\n",
      "  'precision', 'predicted', average, warn_for)\n",
      "C:\\Users\\iad7kor\\AppData\\Local\\Continuum\\anaconda3\\lib\\site-packages\\sklearn\\metrics\\classification.py:1437: UndefinedMetricWarning: Precision and F-score are ill-defined and being set to 0.0 in labels with no predicted samples.\n",
      "  'precision', 'predicted', average, warn_for)\n",
      "C:\\Users\\iad7kor\\AppData\\Local\\Continuum\\anaconda3\\lib\\site-packages\\sklearn\\metrics\\classification.py:1437: UndefinedMetricWarning: Precision and F-score are ill-defined and being set to 0.0 in labels with no predicted samples.\n",
      "  'precision', 'predicted', average, warn_for)\n",
      "C:\\Users\\iad7kor\\AppData\\Local\\Continuum\\anaconda3\\lib\\site-packages\\sklearn\\svm\\base.py:929: ConvergenceWarning: Liblinear failed to converge, increase the number of iterations.\n",
      "  \"the number of iterations.\", ConvergenceWarning)\n",
      "C:\\Users\\iad7kor\\AppData\\Local\\Continuum\\anaconda3\\lib\\site-packages\\sklearn\\metrics\\classification.py:1437: UndefinedMetricWarning: Precision and F-score are ill-defined and being set to 0.0 in labels with no predicted samples.\n",
      "  'precision', 'predicted', average, warn_for)\n"
     ]
    },
    {
     "name": "stdout",
     "output_type": "stream",
     "text": [
      "LogisticRegression  (train accuracy , test_accuracy) is:  95.28 81.25\n",
      "LinearDiscriminantAnalysis  (train accuracy , test_accuracy) is:  98.43 96.875\n",
      "KNeighborsClassifier  (train accuracy , test_accuracy) is:  70.87 40.625\n",
      "DecisionTreeClassifier  (train accuracy , test_accuracy) is:  100.0 65.625\n",
      "GaussianNB  (train accuracy , test_accuracy) is:  59.84 59.375\n",
      "RandomForestClassifier  (train accuracy , test_accuracy) is:  100.0 68.75\n",
      "SVM  (train accuracy , test_accuracy) is:  95.28 37.5\n",
      "Linear_SVM  (train accuracy , test_accuracy) is:  81.89 62.5\n",
      "XGB  (train accuracy , test_accuracy) is:  100.0 62.5\n",
      "SGD  (train accuracy , test_accuracy) is:  9.45 9.375\n",
      "Perceptron  (train accuracy , test_accuracy) is:  11.02 9.375\n"
     ]
    },
    {
     "name": "stderr",
     "output_type": "stream",
     "text": [
      "C:\\Users\\iad7kor\\AppData\\Local\\Continuum\\anaconda3\\lib\\site-packages\\sklearn\\metrics\\classification.py:1437: UndefinedMetricWarning: Precision and F-score are ill-defined and being set to 0.0 in labels with no predicted samples.\n",
      "  'precision', 'predicted', average, warn_for)\n",
      "C:\\Users\\iad7kor\\AppData\\Local\\Continuum\\anaconda3\\lib\\site-packages\\sklearn\\metrics\\classification.py:1437: UndefinedMetricWarning: Precision and F-score are ill-defined and being set to 0.0 in labels with no predicted samples.\n",
      "  'precision', 'predicted', average, warn_for)\n"
     ]
    }
   ],
   "source": [
    "if(len(labels.unique())<10):\n",
    "    metrix = classifier()\n",
    "    #print(metrix[0:2])\n",
    "    #print(\" for model \", metrix[0], \"r_square is:\", metrix[1], \"rmse is:\", metrix[2] )\n",
    "else:\n",
    "    metrix = regressor()\n",
    "    print(metrix)\n",
    "    #print(\" for model \", metrix[0], \"r_square is:\", metrix[1], \"rmse is:\", metrix[2] )\n",
    "#print(\"if you want to change select below option\")"
   ]
  },
  {
   "cell_type": "code",
   "execution_count": null,
   "metadata": {},
   "outputs": [],
   "source": []
  },
  {
   "cell_type": "code",
   "execution_count": null,
   "metadata": {},
   "outputs": [],
   "source": []
  },
  {
   "cell_type": "code",
   "execution_count": null,
   "metadata": {},
   "outputs": [],
   "source": []
  },
  {
   "cell_type": "code",
   "execution_count": null,
   "metadata": {},
   "outputs": [],
   "source": []
  },
  {
   "cell_type": "code",
   "execution_count": null,
   "metadata": {},
   "outputs": [],
   "source": []
  },
  {
   "cell_type": "code",
   "execution_count": null,
   "metadata": {},
   "outputs": [],
   "source": []
  },
  {
   "cell_type": "code",
   "execution_count": null,
   "metadata": {},
   "outputs": [],
   "source": []
  }
 ],
 "metadata": {
  "kernelspec": {
   "display_name": "Python 3",
   "language": "python",
   "name": "python3"
  },
  "language_info": {
   "codemirror_mode": {
    "name": "ipython",
    "version": 3
   },
   "file_extension": ".py",
   "mimetype": "text/x-python",
   "name": "python",
   "nbconvert_exporter": "python",
   "pygments_lexer": "ipython3",
   "version": "3.7.4"
  }
 },
 "nbformat": 4,
 "nbformat_minor": 2
}
