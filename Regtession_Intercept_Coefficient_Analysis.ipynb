{
 "cells": [
  {
   "cell_type": "code",
   "execution_count": 2,
   "metadata": {},
   "outputs": [],
   "source": [
    "import numpy as np\n",
    "import pandas as pd\n"
   ]
  },
  {
   "cell_type": "code",
   "execution_count": 3,
   "metadata": {},
   "outputs": [
    {
     "name": "stdout",
     "output_type": "stream",
     "text": [
      "  Sex    Len    Dia     Ht  WholeWT  ShuckedWt  VisceraWt  ShellWt  Rings\n",
      "0   M  0.455  0.365  0.095   0.5140     0.2245     0.1010    0.150     15\n",
      "1   M  0.350  0.265  0.090   0.2255     0.0995     0.0485    0.070      7\n",
      "2   F  0.530  0.420  0.135   0.6770     0.2565     0.1415    0.210      9\n",
      "3   M  0.440  0.365  0.125   0.5160     0.2155     0.1140    0.155     10\n",
      "4   I  0.330  0.255  0.080   0.2050     0.0895     0.0395    0.055      7\n",
      "5   I  0.425  0.300  0.095   0.3515     0.1410     0.0775    0.120      8\n",
      "6   F  0.530  0.415  0.150   0.7775     0.2370     0.1415    0.330     20\n",
      "7   F  0.545  0.425  0.125   0.7680     0.2940     0.1495    0.260     16\n",
      "8   M  0.475  0.370  0.125   0.5095     0.2165     0.1125    0.165      9\n",
      "9   F  0.550  0.440  0.150   0.8945     0.3145     0.1510    0.320     19\n"
     ]
    }
   ],
   "source": [
    "df = pd.read_csv(\"C:\\MyLearnings\\Machine Learning\\Datasets\\Regression\\Abalone\\data.txt\",delimiter=',')\n",
    "print(df.head(10))"
   ]
  },
  {
   "cell_type": "code",
   "execution_count": 4,
   "metadata": {},
   "outputs": [
    {
     "name": "stdout",
     "output_type": "stream",
     "text": [
      "0    15\n",
      "1     7\n",
      "2     9\n",
      "3    10\n",
      "4     7\n",
      "5     8\n",
      "6    20\n",
      "7    16\n",
      "8     9\n",
      "9    19\n",
      "Name: Rings, dtype: int64\n"
     ]
    }
   ],
   "source": [
    "Y = df.loc[:,'Rings']\n",
    "print(Y[0:10])"
   ]
  },
  {
   "cell_type": "code",
   "execution_count": 5,
   "metadata": {},
   "outputs": [
    {
     "name": "stdout",
     "output_type": "stream",
     "text": [
      "0       M\n",
      "1       M\n",
      "2       F\n",
      "3       M\n",
      "4       I\n",
      "       ..\n",
      "4172    F\n",
      "4173    M\n",
      "4174    M\n",
      "4175    F\n",
      "4176    M\n",
      "Name: Sex, Length: 4177, dtype: object\n",
      "     Len    Dia     Ht  WholeWT  ShuckedWt  VisceraWt  ShellWt\n",
      "0  0.455  0.365  0.095   0.5140     0.2245     0.1010    0.150\n",
      "1  0.350  0.265  0.090   0.2255     0.0995     0.0485    0.070\n",
      "2  0.530  0.420  0.135   0.6770     0.2565     0.1415    0.210\n",
      "3  0.440  0.365  0.125   0.5160     0.2155     0.1140    0.155\n",
      "4  0.330  0.255  0.080   0.2050     0.0895     0.0395    0.055\n",
      "5  0.425  0.300  0.095   0.3515     0.1410     0.0775    0.120\n",
      "6  0.530  0.415  0.150   0.7775     0.2370     0.1415    0.330\n",
      "7  0.545  0.425  0.125   0.7680     0.2940     0.1495    0.260\n",
      "8  0.475  0.370  0.125   0.5095     0.2165     0.1125    0.165\n",
      "9  0.550  0.440  0.150   0.8945     0.3145     0.1510    0.320\n"
     ]
    }
   ],
   "source": [
    "#Normalise columns 2 to 8\n",
    "ds = df.iloc[:,0]\n",
    "df = df.iloc[:,1:8]\n",
    "print(ds)\n",
    "from sklearn import preprocessing\n",
    "minMaxScaler = preprocessing.MinMaxScaler()\n",
    "x_scaled = minMaxScaler.fit_transform(df.values)\n",
    "print(df.head(10))\n"
   ]
  },
  {
   "cell_type": "code",
   "execution_count": 6,
   "metadata": {},
   "outputs": [
    {
     "name": "stdout",
     "output_type": "stream",
     "text": [
      "  Sex    Len    Dia     Ht  WholeWT  ShuckedWt  VisceraWt  ShellWt\n",
      "0   M  0.455  0.365  0.095   0.5140     0.2245     0.1010    0.150\n",
      "1   M  0.350  0.265  0.090   0.2255     0.0995     0.0485    0.070\n",
      "2   F  0.530  0.420  0.135   0.6770     0.2565     0.1415    0.210\n",
      "3   M  0.440  0.365  0.125   0.5160     0.2155     0.1140    0.155\n",
      "4   I  0.330  0.255  0.080   0.2050     0.0895     0.0395    0.055\n",
      "5   I  0.425  0.300  0.095   0.3515     0.1410     0.0775    0.120\n",
      "6   F  0.530  0.415  0.150   0.7775     0.2370     0.1415    0.330\n",
      "7   F  0.545  0.425  0.125   0.7680     0.2940     0.1495    0.260\n",
      "8   M  0.475  0.370  0.125   0.5095     0.2165     0.1125    0.165\n",
      "9   F  0.550  0.440  0.150   0.8945     0.3145     0.1510    0.320\n"
     ]
    }
   ],
   "source": [
    "df.insert(0,\"Sex\",ds,True)\n",
    "print(df.head(10))"
   ]
  },
  {
   "cell_type": "code",
   "execution_count": 7,
   "metadata": {},
   "outputs": [],
   "source": [
    "df.drop(\"Sex\",axis =1)\n",
    "df.insert(0,\"Sex\",ds,True)"
   ]
  },
  {
   "cell_type": "code",
   "execution_count": 8,
   "metadata": {},
   "outputs": [
    {
     "name": "stdout",
     "output_type": "stream",
     "text": [
      "  Sex Sex    Len    Dia     Ht  WholeWT  ShuckedWt  VisceraWt  ShellWt\n",
      "0   M   M  0.455  0.365  0.095   0.5140     0.2245     0.1010    0.150\n",
      "1   M   M  0.350  0.265  0.090   0.2255     0.0995     0.0485    0.070\n",
      "2   F   F  0.530  0.420  0.135   0.6770     0.2565     0.1415    0.210\n",
      "3   M   M  0.440  0.365  0.125   0.5160     0.2155     0.1140    0.155\n",
      "4   I   I  0.330  0.255  0.080   0.2050     0.0895     0.0395    0.055\n",
      "5   I   I  0.425  0.300  0.095   0.3515     0.1410     0.0775    0.120\n",
      "6   F   F  0.530  0.415  0.150   0.7775     0.2370     0.1415    0.330\n",
      "7   F   F  0.545  0.425  0.125   0.7680     0.2940     0.1495    0.260\n",
      "8   M   M  0.475  0.370  0.125   0.5095     0.2165     0.1125    0.165\n",
      "9   F   F  0.550  0.440  0.150   0.8945     0.3145     0.1510    0.320\n"
     ]
    }
   ],
   "source": [
    "print(df.head(10))"
   ]
  },
  {
   "cell_type": "code",
   "execution_count": 9,
   "metadata": {},
   "outputs": [
    {
     "name": "stdout",
     "output_type": "stream",
     "text": [
      "  Sex Sex    Len    Dia     Ht  WholeWT  ShuckedWt  VisceraWt  ShellWt\n",
      "0   M   M  0.455  0.365  0.095   0.5140     0.2245     0.1010    0.150\n",
      "1   M   M  0.350  0.265  0.090   0.2255     0.0995     0.0485    0.070\n",
      "2   F   F  0.530  0.420  0.135   0.6770     0.2565     0.1415    0.210\n",
      "3   M   M  0.440  0.365  0.125   0.5160     0.2155     0.1140    0.155\n",
      "4   I   I  0.330  0.255  0.080   0.2050     0.0895     0.0395    0.055\n",
      "5   I   I  0.425  0.300  0.095   0.3515     0.1410     0.0775    0.120\n",
      "6   F   F  0.530  0.415  0.150   0.7775     0.2370     0.1415    0.330\n",
      "7   F   F  0.545  0.425  0.125   0.7680     0.2940     0.1495    0.260\n",
      "8   M   M  0.475  0.370  0.125   0.5095     0.2165     0.1125    0.165\n",
      "9   F   F  0.550  0.440  0.150   0.8945     0.3145     0.1510    0.320\n"
     ]
    }
   ],
   "source": [
    "df.drop(\"Sex\",axis =1)\n",
    "print(df.head(10))"
   ]
  },
  {
   "cell_type": "code",
   "execution_count": 10,
   "metadata": {},
   "outputs": [
    {
     "name": "stdout",
     "output_type": "stream",
     "text": [
      "     Len    Dia     Ht  WholeWT  ShuckedWt  VisceraWt  ShellWt\n",
      "0  0.455  0.365  0.095   0.5140     0.2245     0.1010    0.150\n",
      "1  0.350  0.265  0.090   0.2255     0.0995     0.0485    0.070\n",
      "2  0.530  0.420  0.135   0.6770     0.2565     0.1415    0.210\n",
      "3  0.440  0.365  0.125   0.5160     0.2155     0.1140    0.155\n",
      "4  0.330  0.255  0.080   0.2050     0.0895     0.0395    0.055\n",
      "5  0.425  0.300  0.095   0.3515     0.1410     0.0775    0.120\n",
      "6  0.530  0.415  0.150   0.7775     0.2370     0.1415    0.330\n",
      "7  0.545  0.425  0.125   0.7680     0.2940     0.1495    0.260\n",
      "8  0.475  0.370  0.125   0.5095     0.2165     0.1125    0.165\n",
      "9  0.550  0.440  0.150   0.8945     0.3145     0.1510    0.320\n"
     ]
    }
   ],
   "source": [
    "df = df.drop(\"Sex\",axis =1)\n",
    "print(df.head(10))"
   ]
  },
  {
   "cell_type": "code",
   "execution_count": 11,
   "metadata": {},
   "outputs": [
    {
     "name": "stdout",
     "output_type": "stream",
     "text": [
      "   Sex    Len    Dia     Ht  WholeWT  ShuckedWt  VisceraWt  ShellWt\n",
      "0    2  0.455  0.365  0.095   0.5140     0.2245     0.1010    0.150\n",
      "1    2  0.350  0.265  0.090   0.2255     0.0995     0.0485    0.070\n",
      "2    0  0.530  0.420  0.135   0.6770     0.2565     0.1415    0.210\n",
      "3    2  0.440  0.365  0.125   0.5160     0.2155     0.1140    0.155\n",
      "4    1  0.330  0.255  0.080   0.2050     0.0895     0.0395    0.055\n",
      "5    1  0.425  0.300  0.095   0.3515     0.1410     0.0775    0.120\n",
      "6    0  0.530  0.415  0.150   0.7775     0.2370     0.1415    0.330\n",
      "7    0  0.545  0.425  0.125   0.7680     0.2940     0.1495    0.260\n",
      "8    2  0.475  0.370  0.125   0.5095     0.2165     0.1125    0.165\n",
      "9    0  0.550  0.440  0.150   0.8945     0.3145     0.1510    0.320\n"
     ]
    }
   ],
   "source": [
    "from sklearn.preprocessing import LabelEncoder\n",
    "labelEncoder = LabelEncoder()\n",
    "ds = labelEncoder.fit_transform(ds)\n",
    "df.insert(0,\"Sex\",ds,True)\n",
    "print(df.head(10))"
   ]
  },
  {
   "cell_type": "code",
   "execution_count": 12,
   "metadata": {},
   "outputs": [
    {
     "name": "stdout",
     "output_type": "stream",
     "text": [
      "0.815\n",
      "   Sex    Len    Dia     Ht  WholeWT  ShuckedWt  VisceraWt  ShellWt\n",
      "0    2  0.455  0.365  0.095   0.5140     0.2245     0.1010    0.150\n",
      "1    2  0.350  0.265  0.090   0.2255     0.0995     0.0485    0.070\n",
      "2    0  0.530  0.420  0.135   0.6770     0.2565     0.1415    0.210\n",
      "3    2  0.440  0.365  0.125   0.5160     0.2155     0.1140    0.155\n",
      "4    1  0.330  0.255  0.080   0.2050     0.0895     0.0395    0.055\n",
      "5    1  0.425  0.300  0.095   0.3515     0.1410     0.0775    0.120\n",
      "6    0  0.530  0.415  0.150   0.7775     0.2370     0.1415    0.330\n",
      "7    0  0.545  0.425  0.125   0.7680     0.2940     0.1495    0.260\n",
      "8    2  0.475  0.370  0.125   0.5095     0.2165     0.1125    0.165\n",
      "9    0  0.550  0.440  0.150   0.8945     0.3145     0.1510    0.320\n"
     ]
    }
   ],
   "source": [
    "print(df['Len'].max())\n",
    "pd.get_dummies(df['Sex'])\n",
    "print(df.head(10))"
   ]
  },
  {
   "cell_type": "code",
   "execution_count": 13,
   "metadata": {},
   "outputs": [
    {
     "name": "stdout",
     "output_type": "stream",
     "text": [
      "0.48137865136508606\n"
     ]
    }
   ],
   "source": [
    "from sklearn.linear_model import LinearRegression\n",
    "from sklearn.model_selection import train_test_split\n",
    "X= df.values\n",
    "X_train, X_test, Y_train, Y_test = train_test_split(X,Y,test_size=0.2,random_state=5)\n",
    "model = LinearRegression()\n",
    "model.fit(X_train,Y_train)\n",
    "Y_pred = model.predict(X_test)\n",
    "from sklearn.metrics import r2_score\n",
    "print(r2_score(Y_test,Y_pred))"
   ]
  },
  {
   "cell_type": "code",
   "execution_count": 16,
   "metadata": {},
   "outputs": [
    {
     "name": "stdout",
     "output_type": "stream",
     "text": [
      "Intercept: 3.010361362689581\n",
      "Coefficients: [  0.04697796  -0.37216976  11.69354736  10.08524725   8.65389506\n",
      " -19.43007263  -9.69298856  10.28336839]\n"
     ]
    },
    {
     "data": {
      "image/png": "[encoded data removed]",
      "text/plain": [
       "<Figure size 432x288 with 1 Axes>"
      ]
     },
     "metadata": {
      "needs_background": "light"
     },
     "output_type": "display_data"
    }
   ],
   "source": [
    "\n",
    "############### PLOTTING THE COEFFICIENTS OF FEATURES  ##############################\n",
    "\n",
    "print('Intercept:', model.intercept_)\n",
    "import matplotlib.pyplot as plt\n",
    "fig, ax = plt.subplots()\n",
    "coef = model.coef_\n",
    "print(\"Coefficients:\",coef)\n",
    "plt.bar([\"col1\",\"col2\",\"col3\",\"col4\",\"col5\",\"col6\",\"col7\",\"col8\"],coef,align='center', alpha=0.5)\n",
    "plt.show()"
   ]
  },
  {
   "cell_type": "code",
   "execution_count": null,
   "metadata": {},
   "outputs": [],
   "source": []
  }
 ],
 "metadata": {
  "kernelspec": {
   "display_name": "Python 3",
   "language": "python",
   "name": "python3"
  },
  "language_info": {
   "codemirror_mode": {
    "name": "ipython",
    "version": 3
   },
   "file_extension": ".py",
   "mimetype": "text/x-python",
   "name": "python",
   "nbconvert_exporter": "python",
   "pygments_lexer": "ipython3",
   "version": "3.6.8rc1"
  }
 },
 "nbformat": 4,
 "nbformat_minor": 4
}
